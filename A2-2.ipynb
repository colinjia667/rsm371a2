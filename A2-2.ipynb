{
 "cells": [
  {
   "cell_type": "code",
   "execution_count": 138,
   "metadata": {},
   "outputs": [
    {
     "name": "stderr",
     "output_type": "stream",
     "text": [
      "/var/folders/v0/hpm7rd7j4n39wr93kp2m5xwm0000gn/T/ipykernel_78704/2046240363.py:26: DtypeWarning: Columns (7,8) have mixed types. Specify dtype option on import or set low_memory=False.\n",
      "  pcard2015 = read_csv(pcard2015_name, header=0, names=names, encoding='UTF-8')\n"
     ]
    }
   ],
   "source": [
    "# import the required libraries\n",
    "import numpy as np\n",
    "import pandas as pd\n",
    "import re\n",
    "from pandas import read_csv\n",
    "# set the path to the data files\n",
    "pcard2014_name = 'Analytics_mindset_case_studies_PCard_FY2014.csv'\n",
    "pcard2015_name = 'Analytics_mindset_case_studies_PCard_FY2015.csv'\n",
    "\n",
    "# set desired column names\n",
    "names = {\n",
    "    'AgencyNumber': 'AgencyNumber',\n",
    "    'AgencyName': 'AgencyName',\n",
    "    'CardholderLastName': 'CardholderLastName',\n",
    "    'CardholderFirstInitial': 'CardholderFirstInitial',\n",
    "    'Description': 'Description',\n",
    "    'Amount': 'Amount',\n",
    "    'Vendor': 'Vendor',\n",
    "    'TransactionDate': 'TransactionDate',\n",
    "    'PostedDate': 'PostedDate',\n",
    "    'MCC': 'MCC'\n",
    "}\n",
    "\n",
    "# read the data files into pandas dataframes\n",
    "pcard2014 = read_csv(pcard2014_name, header=0, names=names, encoding='UTF-8')\n",
    "pcard2015 = read_csv(pcard2015_name, header=0, names=names, encoding='UTF-8')"
   ]
  },
  {
   "cell_type": "code",
   "execution_count": 139,
   "metadata": {},
   "outputs": [],
   "source": [
    "# Concatenating the two dataframes\n",
    "pcard = pd.concat([pcard2014, pcard2015])"
   ]
  },
  {
   "cell_type": "code",
   "execution_count": 140,
   "metadata": {},
   "outputs": [],
   "source": [
    "# Resetting the index to avoid duplicate index values\n",
    "# drop=True avoids the old index being added as a column\n",
    "# inplace=True modifies the DF in place without creating a new object\n",
    "pcard.reset_index(drop=True, inplace=True) "
   ]
  },
  {
   "cell_type": "code",
   "execution_count": 141,
   "metadata": {},
   "outputs": [
    {
     "data": {
      "text/plain": [
       "(880037, 10)"
      ]
     },
     "execution_count": 141,
     "metadata": {},
     "output_type": "execute_result"
    }
   ],
   "source": [
    "pcard.shape"
   ]
  },
  {
   "cell_type": "code",
   "execution_count": 142,
   "metadata": {},
   "outputs": [
    {
     "name": "stdout",
     "output_type": "stream",
     "text": [
      "<class 'pandas.core.frame.DataFrame'>\n",
      "RangeIndex: 880037 entries, 0 to 880036\n",
      "Data columns (total 10 columns):\n",
      " #   Column                  Non-Null Count   Dtype \n",
      "---  ------                  --------------   ----- \n",
      " 0   AgencyNumber            880037 non-null  int64 \n",
      " 1   AgencyName              880037 non-null  object\n",
      " 2   CardholderLastName      880037 non-null  object\n",
      " 3   CardholderFirstInitial  880037 non-null  object\n",
      " 4   Description             880037 non-null  object\n",
      " 5   Amount                  880037 non-null  object\n",
      " 6   Vendor                  880037 non-null  object\n",
      " 7   TransactionDate         657156 non-null  object\n",
      " 8   PostedDate              657156 non-null  object\n",
      " 9   MCC                     880037 non-null  object\n",
      "dtypes: int64(1), object(9)\n",
      "memory usage: 67.1+ MB\n"
     ]
    }
   ],
   "source": [
    "pcard.info()"
   ]
  },
  {
   "cell_type": "markdown",
   "metadata": {},
   "source": [
    "## Task 3: Data  Preprocessing (Extract, Transform, and Load)"
   ]
  },
  {
   "cell_type": "markdown",
   "metadata": {},
   "source": [
    "### Information Schema\n",
    "\n",
    "| Column Name             | Data Type   | Description                       |\n",
    "|--------------------------|-------------|-----------------------------------|\n",
    "| **AgencyNum**           | `int`       | Unique identifier for the agency |\n",
    "| **AgencyName**          | `str`       | Name of the agency               |\n",
    "| **CardholderLastName**  | `str`       | Last name of the cardholder      |\n",
    "| **CardholderFirstInitial** | `str`    | First initial of the cardholder  |\n",
    "| **Description**         | `str`       | Description of the transaction   |\n",
    "| **Amount**              | `float`     | Transaction amount               |\n",
    "| **Vendor**              | `str`       | Vendor associated with the transaction |\n",
    "| **TransactionDate**     | `datetime`  | Date the transaction occurred    |\n",
    "| **PostedDate**          | `datetime`  | Date the transaction was posted  |\n",
    "| **MCC**                 | `str`       | Merchant Category Code           |\n"
   ]
  },
  {
   "cell_type": "markdown",
   "metadata": {},
   "source": [
    "### Tranforming TransactionDate and PostedDate"
   ]
  },
  {
   "cell_type": "code",
   "execution_count": 143,
   "metadata": {},
   "outputs": [],
   "source": [
    "# Transforming the TransactionDate and PostedDate to ISO datetime format\n",
    "pcard['TransactionDate'] = pd.to_datetime(pcard['TransactionDate'], format='%m/%d/%Y %H:%M')\n",
    "pcard['PostedDate'] = pd.to_datetime(pcard['PostedDate'], format='%m/%d/%Y %H:%M')"
   ]
  },
  {
   "cell_type": "markdown",
   "metadata": {},
   "source": [
    "### Transforming Amount"
   ]
  },
  {
   "cell_type": "code",
   "execution_count": 144,
   "metadata": {},
   "outputs": [],
   "source": [
    "# Parsing amount to String\n",
    "pcard['Amount'] = pcard['Amount'].astype(str)"
   ]
  },
  {
   "cell_type": "code",
   "execution_count": 145,
   "metadata": {},
   "outputs": [],
   "source": [
    "# Stripping white spaces from Amount\n",
    "pcard['Amount'] = pcard['Amount'].str.strip()"
   ]
  },
  {
   "cell_type": "code",
   "execution_count": 146,
   "metadata": {},
   "outputs": [],
   "source": [
    "# Removing $ from Amount\n",
    "pcard['Amount'] = pcard['Amount'].str.replace('$', '')"
   ]
  },
  {
   "cell_type": "code",
   "execution_count": 147,
   "metadata": {},
   "outputs": [],
   "source": [
    "# Removing , from Amount\n",
    "pcard['Amount'] = pcard['Amount'].str.replace(',', '')"
   ]
  },
  {
   "cell_type": "code",
   "execution_count": 148,
   "metadata": {},
   "outputs": [],
   "source": [
    "# Changing () to 0 in Amount\n",
    "pcard['Amount'] = pcard['Amount'].str.replace('(','-')\n",
    "pcard['Amount'] = pcard['Amount'].str.replace(')','')"
   ]
  },
  {
   "cell_type": "code",
   "execution_count": 149,
   "metadata": {},
   "outputs": [],
   "source": [
    "# Parsing Amount back to float\n",
    "pcard['Amount'] = pcard['Amount'].astype(float)"
   ]
  },
  {
   "cell_type": "markdown",
   "metadata": {},
   "source": [
    "### Mapping AgencyNumber to correct AgencyName"
   ]
  },
  {
   "cell_type": "code",
   "execution_count": 150,
   "metadata": {},
   "outputs": [
    {
     "data": {
      "text/plain": [
       "AgencyNumber\n",
       "4000     3\n",
       "19000    2\n",
       "21500    2\n",
       "26500    2\n",
       "30900    2\n",
       "34000    2\n",
       "34200    2\n",
       "50900    2\n",
       "58800    2\n",
       "60600    2\n",
       "Name: AgencyName, dtype: int64"
      ]
     },
     "execution_count": 150,
     "metadata": {},
     "output_type": "execute_result"
    }
   ],
   "source": [
    "# Find AgencyNumber with multiple AgencyName\n",
    "mult_agency = pcard.groupby('AgencyNumber')['AgencyName'].nunique()\n",
    "mult_agency[mult_agency > 1]"
   ]
  },
  {
   "cell_type": "code",
   "execution_count": 151,
   "metadata": {},
   "outputs": [],
   "source": [
    "# Creating mapping table for multiple AgencyNames\n",
    "agency_mapping_table = {\n",
    "    4000: 'DEPARTMENT OF AGRICULTURE FOOD & FORESTRY',\n",
    "    19000: 'OKLAHOMA STATE BOARD OF COSMETOLOGY AND BARBERING',\n",
    "    21500: 'OLKAHOMA STATE BOARD OF DENTISTRY',\n",
    "    26500: 'DEPARTMENT OF EDUCATION',\n",
    "    30900: 'DEPARTMENT OF EMERGENCY MANAGEMENT',\n",
    "    34000: 'OKLAHOMA STATE DEPARTMENT OF HEALTH',\n",
    "    34200: 'OFFICE OF THE CHIEF MEDICAL EXAMINER',\n",
    "    50900: 'BOARD OF EXAM. FOR LT CARE ADMIN',\n",
    "    58800: 'OKLAHOMA REAL ESTATE COMMISSION',\n",
    "    60600: 'UNIVERSITY CENTER OF SOUTHERN OKLAHOMA'\n",
    "}\n",
    "\n",
    "# Replacing duplicate AgencyNames with correct AgencyName\n",
    "# .map() replaces the values in pcard['AgencyName'] with the values in agency_mapping_table\n",
    "# .fillna() fills in the values that are not in the mapping table with the original values\n",
    "pcard['AgencyName'] = pcard['AgencyNumber'].map(agency_mapping_table).fillna(pcard['AgencyName'])"
   ]
  },
  {
   "cell_type": "code",
   "execution_count": 152,
   "metadata": {},
   "outputs": [
    {
     "data": {
      "text/plain": [
       "Series([], Name: AgencyName, dtype: int64)"
      ]
     },
     "execution_count": 152,
     "metadata": {},
     "output_type": "execute_result"
    }
   ],
   "source": [
    "# Check for multiples after transformation\n",
    "mult_agency = pcard.groupby('AgencyNumber')['AgencyName'].nunique()\n",
    "mult_agency[mult_agency > 1]"
   ]
  },
  {
   "cell_type": "markdown",
   "metadata": {},
   "source": [
    "### Fix formatting for MCC, Description, and Vendor"
   ]
  },
  {
   "cell_type": "code",
   "execution_count": 153,
   "metadata": {},
   "outputs": [],
   "source": [
    "# Function to add spaces after punctuation and stripping extra spaces\n",
    "def fix_punctuation(name):\n",
    "    # Add single space after punctuation if there is none\n",
    "    name = re.sub(r'([,:;!?])(?=\\S)', r'\\1 ', name)\n",
    "\n",
    "    # Remove extra spaces around punctuation and strip leading/trailing spaces\n",
    "    name = re.sub(r'\\s+([.,:;!?])', r'\\1', name) # Removes spaces before punctuation\n",
    "    name = re.sub(r'\\s+', ' ', name).strip() # Remove extra spaces\n",
    "\n",
    "    return name"
   ]
  },
  {
   "cell_type": "code",
   "execution_count": 154,
   "metadata": {},
   "outputs": [],
   "source": [
    "# Fixes punctuation for Vendor, MCC, and Description\n",
    "pcard['Vendor'] = pcard['Vendor'].apply(fix_punctuation)\n",
    "pcard['MCC'] = pcard['MCC'].apply(fix_punctuation)\n",
    "pcard['Description'] = pcard['Description'].apply(fix_punctuation)"
   ]
  },
  {
   "cell_type": "code",
   "execution_count": 155,
   "metadata": {},
   "outputs": [
    {
     "name": "stdout",
     "output_type": "stream",
     "text": [
      "<class 'pandas.core.frame.DataFrame'>\n",
      "RangeIndex: 880037 entries, 0 to 880036\n",
      "Data columns (total 10 columns):\n",
      " #   Column                  Non-Null Count   Dtype         \n",
      "---  ------                  --------------   -----         \n",
      " 0   AgencyNumber            880037 non-null  int64         \n",
      " 1   AgencyName              880037 non-null  object        \n",
      " 2   CardholderLastName      880037 non-null  object        \n",
      " 3   CardholderFirstInitial  880037 non-null  object        \n",
      " 4   Description             880037 non-null  object        \n",
      " 5   Amount                  880037 non-null  float64       \n",
      " 6   Vendor                  880037 non-null  object        \n",
      " 7   TransactionDate         657156 non-null  datetime64[ns]\n",
      " 8   PostedDate              657156 non-null  datetime64[ns]\n",
      " 9   MCC                     880037 non-null  object        \n",
      "dtypes: datetime64[ns](2), float64(1), int64(1), object(6)\n",
      "memory usage: 67.1+ MB\n"
     ]
    }
   ],
   "source": [
    "pcard.info()"
   ]
  },
  {
   "cell_type": "markdown",
   "metadata": {},
   "source": [
    "### Filtering Data"
   ]
  },
  {
   "cell_type": "markdown",
   "metadata": {},
   "source": [
    "**Necessary Filters:**\n",
    "1. Remove NA Values in TransactionDate/PostedDate\n",
    "2. Filter Agency for only OSU transactions\n",
    "3. Filter TransactionDate for 2014 calendar year transactions\n"
   ]
  },
  {
   "cell_type": "code",
   "execution_count": 156,
   "metadata": {},
   "outputs": [],
   "source": [
    "# Create a copy of the dataframe for filtering\n",
    "pcard_filtered = pcard.copy()"
   ]
  },
  {
   "cell_type": "code",
   "execution_count": 157,
   "metadata": {},
   "outputs": [
    {
     "data": {
      "text/plain": [
       "(880037, 10)"
      ]
     },
     "execution_count": 157,
     "metadata": {},
     "output_type": "execute_result"
    }
   ],
   "source": [
    "pcard_filtered.shape"
   ]
  },
  {
   "cell_type": "code",
   "execution_count": 158,
   "metadata": {},
   "outputs": [
    {
     "name": "stdout",
     "output_type": "stream",
     "text": [
      "<class 'pandas.core.frame.DataFrame'>\n",
      "RangeIndex: 880037 entries, 0 to 880036\n",
      "Data columns (total 10 columns):\n",
      " #   Column                  Non-Null Count   Dtype         \n",
      "---  ------                  --------------   -----         \n",
      " 0   AgencyNumber            880037 non-null  int64         \n",
      " 1   AgencyName              880037 non-null  object        \n",
      " 2   CardholderLastName      880037 non-null  object        \n",
      " 3   CardholderFirstInitial  880037 non-null  object        \n",
      " 4   Description             880037 non-null  object        \n",
      " 5   Amount                  880037 non-null  float64       \n",
      " 6   Vendor                  880037 non-null  object        \n",
      " 7   TransactionDate         657156 non-null  datetime64[ns]\n",
      " 8   PostedDate              657156 non-null  datetime64[ns]\n",
      " 9   MCC                     880037 non-null  object        \n",
      "dtypes: datetime64[ns](2), float64(1), int64(1), object(6)\n",
      "memory usage: 67.1+ MB\n"
     ]
    }
   ],
   "source": [
    "pcard_filtered.info()"
   ]
  },
  {
   "cell_type": "code",
   "execution_count": 159,
   "metadata": {},
   "outputs": [],
   "source": [
    "# Step 1: Remove rows with missing TransactionDate or PostedDate\n",
    "pcard_filtered = pcard_filtered.dropna(subset=['TransactionDate', 'PostedDate'])"
   ]
  },
  {
   "cell_type": "code",
   "execution_count": 160,
   "metadata": {},
   "outputs": [],
   "source": [
    "# Step 2: Filter Agency to only include OSU transactions\n",
    "pcard_filtered = pcard_filtered[pcard_filtered['AgencyName'] == 'OKLAHOMA STATE UNIVERSITY']"
   ]
  },
  {
   "cell_type": "code",
   "execution_count": 162,
   "metadata": {},
   "outputs": [],
   "source": [
    "# Step 3: Filter TransactionDate for 2014 calendar year onnly\n",
    "pcard_filtered = pcard_filtered[pcard_filtered['TransactionDate'].dt.year == 2014]"
   ]
  },
  {
   "cell_type": "code",
   "execution_count": 167,
   "metadata": {},
   "outputs": [
    {
     "data": {
      "text/plain": [
       "(116031, 10)"
      ]
     },
     "execution_count": 167,
     "metadata": {},
     "output_type": "execute_result"
    }
   ],
   "source": [
    "# Check for number of rows in filtered data\n",
    "pcard_filtered.shape"
   ]
  },
  {
   "cell_type": "code",
   "execution_count": 168,
   "metadata": {},
   "outputs": [
    {
     "data": {
      "text/plain": [
       "np.float64(33504148.340000004)"
      ]
     },
     "execution_count": 168,
     "metadata": {},
     "output_type": "execute_result"
    }
   ],
   "source": [
    "# Check total amount spent in filtered data\n",
    "pcard_filtered['Amount'].sum()"
   ]
  },
  {
   "cell_type": "code",
   "execution_count": 169,
   "metadata": {},
   "outputs": [],
   "source": [
    "# Save the filtered data to a new CSV file\n",
    "pcard_filtered.to_csv('pcard_filtered.csv', index=False)"
   ]
  },
  {
   "cell_type": "markdown",
   "metadata": {},
   "source": [
    "### Final Output\n",
    "\n",
    "- **Number of Rows**: `116031`\n",
    "- **Total $ Amount**: `$33504148.34`\n"
   ]
  }
 ],
 "metadata": {
  "kernelspec": {
   "display_name": "base",
   "language": "python",
   "name": "python3"
  },
  "language_info": {
   "codemirror_mode": {
    "name": "ipython",
    "version": 3
   },
   "file_extension": ".py",
   "mimetype": "text/x-python",
   "name": "python",
   "nbconvert_exporter": "python",
   "pygments_lexer": "ipython3",
   "version": "3.12.2"
  }
 },
 "nbformat": 4,
 "nbformat_minor": 2
}
