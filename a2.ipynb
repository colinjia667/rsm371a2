{
 "cells": [
  {
   "cell_type": "code",
   "execution_count": null,
   "metadata": {},
   "outputs": [
    {
     "name": "stderr",
     "output_type": "stream",
     "text": [
      "/var/folders/v0/hpm7rd7j4n39wr93kp2m5xwm0000gn/T/ipykernel_75736/3551223313.py:16: DtypeWarning: Columns (7,8) have mixed types. Specify dtype option on import or set low_memory=False.\n",
      "  pcard2015 = read_csv(pcard2015_name, header=0, names=names, encoding='UTF-8')\n"
     ]
    }
   ],
   "source": [
    "# import the required libraries\n",
    "import numpy as np # numpy for numerical operations\n",
    "import pandas as pd # pandas for data manipulation\n",
    "import re # re for string manipulations\n",
    "from pandas import read_csv # read_csv for reading csv files\n",
    "\n",
    "# set the path to the data files\n",
    "pcard2014_name = 'Analytics_mindset_case_studies_PCard_FY2014.csv'\n",
    "pcard2015_name = 'Analytics_mindset_case_studies_PCard_FY2015.csv'\n",
    "\n",
    "# set desired column names\n",
    "names = ['AgencyNumber', \"AgencyName\", \"CardholderLastName\", \"CardholderFirstInitial\", \"Description\", \"Amount\", \"Vendor\", \"TransactionDate\", \"PostedDate\", \"MCC\"]\n",
    "\n",
    "# read the data files into pandas dataframes\n",
    "pcard2014 = read_csv(pcard2014_name, header=0, names=names, encoding='UTF-8')\n",
    "pcard2015 = read_csv(pcard2015_name, header=0, names=names, encoding='UTF-8')"
   ]
  },
  {
   "cell_type": "code",
   "execution_count": 60,
   "metadata": {},
   "outputs": [],
   "source": [
    "# Concatenating the two dataframes\n",
    "df_pcard = pd.concat([pcard2014, pcard2015])"
   ]
  },
  {
   "cell_type": "code",
   "execution_count": 61,
   "metadata": {},
   "outputs": [],
   "source": [
    "# Resetting the index to avoid duplicate index values\n",
    "# drop=True avoids the old index being added as a column\n",
    "# inplace=True modifies the DF in place without creating a new object\n",
    "df_pcard.reset_index(drop=True, inplace=True) "
   ]
  },
  {
   "cell_type": "markdown",
   "metadata": {},
   "source": [
    "## Task 3: Data  Preprocessing (Extract, Transform, and Load)"
   ]
  },
  {
   "cell_type": "markdown",
   "metadata": {},
   "source": [
    "### Information Schema\n",
    "\n",
    "| Column Name             | Data Type   | Description                       |\n",
    "|--------------------------|-------------|-----------------------------------|\n",
    "| **AgencyNum**           | `int`       | Unique identifier for the agency |\n",
    "| **AgencyName**          | `str`       | Name of the agency               |\n",
    "| **CardholderLastName**  | `str`       | Last name of the cardholder      |\n",
    "| **CardholderFirstInitial** | `str`    | First initial of the cardholder  |\n",
    "| **Description**         | `str`       | Description of the transaction   |\n",
    "| **Amount**              | `float`     | Transaction amount               |\n",
    "| **Vendor**              | `str`       | Vendor associated with the transaction |\n",
    "| **TransactionDate**     | `datetime`  | Date the transaction occurred    |\n",
    "| **PostedDate**          | `datetime`  | Date the transaction was posted  |\n",
    "| **MCC**                 | `str`       | Merchant Category Code           |\n"
   ]
  },
  {
   "cell_type": "code",
   "execution_count": 29,
   "metadata": {},
   "outputs": [
    {
     "name": "stdout",
     "output_type": "stream",
     "text": [
      "<class 'pandas.core.frame.DataFrame'>\n",
      "RangeIndex: 880037 entries, 0 to 880036\n",
      "Data columns (total 10 columns):\n",
      " #   Column                  Non-Null Count   Dtype \n",
      "---  ------                  --------------   ----- \n",
      " 0   AgencyNumber            880037 non-null  int64 \n",
      " 1   AgencyName              880037 non-null  object\n",
      " 2   CardholderLastName      880037 non-null  object\n",
      " 3   CardholderFirstInitial  880037 non-null  object\n",
      " 4   Description             880037 non-null  object\n",
      " 5   Amount                  880037 non-null  object\n",
      " 6   Vendor                  880037 non-null  object\n",
      " 7   TransactionDate         657156 non-null  object\n",
      " 8   PostedDate              657156 non-null  object\n",
      " 9   MCC                     880037 non-null  object\n",
      "dtypes: int64(1), object(9)\n",
      "memory usage: 67.1+ MB\n"
     ]
    }
   ],
   "source": [
    "df_pcard.info()"
   ]
  },
  {
   "cell_type": "markdown",
   "metadata": {},
   "source": [
    "### Tranforming TransactionDate and PostedDate"
   ]
  },
  {
   "cell_type": "code",
   "execution_count": null,
   "metadata": {},
   "outputs": [],
   "source": [
    "# Transforming the TransactionDate to datetime\n",
    "df_pcard['TransactionDate'] = pd.to_datetime(df_pcard['TransactionDate'], format='%m/%d/%Y %H:%M') #check if converted properly"
   ]
  },
  {
   "cell_type": "code",
   "execution_count": 31,
   "metadata": {},
   "outputs": [],
   "source": [
    "# Transforming the PostedDate to datetime\n",
    "df_pcard['PostedDate'] = pd.to_datetime(df_pcard['PostedDate'], format='%m/%d/%Y %H:%M')"
   ]
  },
  {
   "cell_type": "markdown",
   "metadata": {},
   "source": [
    "### Transforming Amount"
   ]
  },
  {
   "cell_type": "code",
   "execution_count": 32,
   "metadata": {},
   "outputs": [],
   "source": [
    "# Parsing amount to String\n",
    "df_pcard['Amount'] = df_pcard['Amount'].astype(str)"
   ]
  },
  {
   "cell_type": "code",
   "execution_count": 33,
   "metadata": {},
   "outputs": [],
   "source": [
    "# Stripping white space from Amount\n",
    "df_pcard['Amount'] = df_pcard['Amount'].str.strip()"
   ]
  },
  {
   "cell_type": "code",
   "execution_count": 34,
   "metadata": {},
   "outputs": [],
   "source": [
    "# Removing $ from Amount\n",
    "df_pcard['Amount'] = df_pcard['Amount'].str.replace('$', '')"
   ]
  },
  {
   "cell_type": "code",
   "execution_count": 35,
   "metadata": {},
   "outputs": [],
   "source": [
    "# Removing , from Amount\n",
    "df_pcard['Amount'] = df_pcard['Amount'].str.replace(',','')"
   ]
  },
  {
   "cell_type": "code",
   "execution_count": 36,
   "metadata": {},
   "outputs": [],
   "source": [
    "# Changing () to - in Amount\n",
    "df_pcard['Amount'] = df_pcard['Amount'].str.replace('(','-')\n",
    "df_pcard['Amount'] = df_pcard['Amount'].str.replace(')','')"
   ]
  },
  {
   "cell_type": "code",
   "execution_count": 37,
   "metadata": {},
   "outputs": [],
   "source": [
    "# Parsing Amount back to float\n",
    "df_pcard['Amount'] = df_pcard['Amount'].astype(float)"
   ]
  },
  {
   "cell_type": "code",
   "execution_count": 38,
   "metadata": {},
   "outputs": [
    {
     "data": {
      "text/plain": [
       "0          890.00\n",
       "1          368.96\n",
       "2          165.82\n",
       "3           96.39\n",
       "4          125.96\n",
       "           ...   \n",
       "880032     377.35\n",
       "880033     259.16\n",
       "880034     317.71\n",
       "880035    7992.96\n",
       "880036       9.92\n",
       "Name: Amount, Length: 880037, dtype: float64"
      ]
     },
     "execution_count": 38,
     "metadata": {},
     "output_type": "execute_result"
    }
   ],
   "source": [
    "df_pcard['Amount']"
   ]
  },
  {
   "cell_type": "code",
   "execution_count": 39,
   "metadata": {},
   "outputs": [
    {
     "name": "stdout",
     "output_type": "stream",
     "text": [
      "<class 'pandas.core.frame.DataFrame'>\n",
      "RangeIndex: 880037 entries, 0 to 880036\n",
      "Data columns (total 10 columns):\n",
      " #   Column                  Non-Null Count   Dtype         \n",
      "---  ------                  --------------   -----         \n",
      " 0   AgencyNumber            880037 non-null  int64         \n",
      " 1   AgencyName              880037 non-null  object        \n",
      " 2   CardholderLastName      880037 non-null  object        \n",
      " 3   CardholderFirstInitial  880037 non-null  object        \n",
      " 4   Description             880037 non-null  object        \n",
      " 5   Amount                  880037 non-null  float64       \n",
      " 6   Vendor                  880037 non-null  object        \n",
      " 7   TransactionDate         657156 non-null  datetime64[ns]\n",
      " 8   PostedDate              657156 non-null  datetime64[ns]\n",
      " 9   MCC                     880037 non-null  object        \n",
      "dtypes: datetime64[ns](2), float64(1), int64(1), object(6)\n",
      "memory usage: 67.1+ MB\n"
     ]
    }
   ],
   "source": [
    "df_pcard.info()"
   ]
  },
  {
   "cell_type": "markdown",
   "metadata": {},
   "source": [
    "### Mapping AgencyNumber to correct AgencyName"
   ]
  },
  {
   "cell_type": "code",
   "execution_count": 40,
   "metadata": {},
   "outputs": [
    {
     "data": {
      "text/html": [
       "<div>\n",
       "<style scoped>\n",
       "    .dataframe tbody tr th:only-of-type {\n",
       "        vertical-align: middle;\n",
       "    }\n",
       "\n",
       "    .dataframe tbody tr th {\n",
       "        vertical-align: top;\n",
       "    }\n",
       "\n",
       "    .dataframe thead th {\n",
       "        text-align: right;\n",
       "    }\n",
       "</style>\n",
       "<table border=\"1\" class=\"dataframe\">\n",
       "  <thead>\n",
       "    <tr style=\"text-align: right;\">\n",
       "      <th></th>\n",
       "      <th>AgencyNumber</th>\n",
       "      <th>AgencyName</th>\n",
       "    </tr>\n",
       "  </thead>\n",
       "  <tbody>\n",
       "    <tr>\n",
       "      <th>0</th>\n",
       "      <td>4000</td>\n",
       "      <td>[DEPARTMENT OF AGRICULTURE, DEPARTMENT OF AGRICULTURE, FOOD, ANF FOR, DEPT OF AGRICULTURE FOOD &amp; FORESTRY]</td>\n",
       "    </tr>\n",
       "    <tr>\n",
       "      <th>1</th>\n",
       "      <td>19000</td>\n",
       "      <td>[COSMETOLOGY BOARD, ST BD OF COSMETOLOGY AND BARBERING]</td>\n",
       "    </tr>\n",
       "    <tr>\n",
       "      <th>2</th>\n",
       "      <td>21500</td>\n",
       "      <td>[BOARD OF DENTISTRY, OKLAHOMA ST.BOARD OF DENTISTRY]</td>\n",
       "    </tr>\n",
       "    <tr>\n",
       "      <th>3</th>\n",
       "      <td>26500</td>\n",
       "      <td>[`DEPARTMENT OF EDUCATION, DEPARTMENT OF EDUCATION]</td>\n",
       "    </tr>\n",
       "    <tr>\n",
       "      <th>4</th>\n",
       "      <td>30900</td>\n",
       "      <td>[DEPARTMENT OF EMERGENCY MANAGEMEN, DEPARTMENT OF EMERGENCY MANAGEMENT]</td>\n",
       "    </tr>\n",
       "    <tr>\n",
       "      <th>5</th>\n",
       "      <td>34000</td>\n",
       "      <td>[STATE DEPARTMENT OF HEALTH, OKLAHOMA STATE DEPARTMENT OF HEALTH]</td>\n",
       "    </tr>\n",
       "    <tr>\n",
       "      <th>6</th>\n",
       "      <td>34200</td>\n",
       "      <td>[BD. OF MEDICOLEGAL INVESTIGATIONS, OFFICE OF THE CHIEF MEDICAL EXAMINER]</td>\n",
       "    </tr>\n",
       "    <tr>\n",
       "      <th>7</th>\n",
       "      <td>50900</td>\n",
       "      <td>[BD. OF EXAM. FOR LT CARE ADMIN, BD. OF EXAM. FOR LT CARE ADMIN.]</td>\n",
       "    </tr>\n",
       "    <tr>\n",
       "      <th>8</th>\n",
       "      <td>58800</td>\n",
       "      <td>[OKLA. REAL ESTATE COMM., OKLAHOMA REAL ESTATE COMM.]</td>\n",
       "    </tr>\n",
       "    <tr>\n",
       "      <th>9</th>\n",
       "      <td>60600</td>\n",
       "      <td>[ARDMORE HIGHER EDUCATION CENTER, UNIVERSITY CENTER OF SOUTHERN OKLAHOMA]</td>\n",
       "    </tr>\n",
       "  </tbody>\n",
       "</table>\n",
       "</div>"
      ],
      "text/plain": [
       "   AgencyNumber  \\\n",
       "0          4000   \n",
       "1         19000   \n",
       "2         21500   \n",
       "3         26500   \n",
       "4         30900   \n",
       "5         34000   \n",
       "6         34200   \n",
       "7         50900   \n",
       "8         58800   \n",
       "9         60600   \n",
       "\n",
       "                                                                                                   AgencyName  \n",
       "0  [DEPARTMENT OF AGRICULTURE, DEPARTMENT OF AGRICULTURE, FOOD, ANF FOR, DEPT OF AGRICULTURE FOOD & FORESTRY]  \n",
       "1                                                     [COSMETOLOGY BOARD, ST BD OF COSMETOLOGY AND BARBERING]  \n",
       "2                                                        [BOARD OF DENTISTRY, OKLAHOMA ST.BOARD OF DENTISTRY]  \n",
       "3                                                         [`DEPARTMENT OF EDUCATION, DEPARTMENT OF EDUCATION]  \n",
       "4                                     [DEPARTMENT OF EMERGENCY MANAGEMEN, DEPARTMENT OF EMERGENCY MANAGEMENT]  \n",
       "5                                           [STATE DEPARTMENT OF HEALTH, OKLAHOMA STATE DEPARTMENT OF HEALTH]  \n",
       "6                                   [BD. OF MEDICOLEGAL INVESTIGATIONS, OFFICE OF THE CHIEF MEDICAL EXAMINER]  \n",
       "7                                           [BD. OF EXAM. FOR LT CARE ADMIN, BD. OF EXAM. FOR LT CARE ADMIN.]  \n",
       "8                                                       [OKLA. REAL ESTATE COMM., OKLAHOMA REAL ESTATE COMM.]  \n",
       "9                                   [ARDMORE HIGHER EDUCATION CENTER, UNIVERSITY CENTER OF SOUTHERN OKLAHOMA]  "
      ]
     },
     "execution_count": 40,
     "metadata": {},
     "output_type": "execute_result"
    }
   ],
   "source": [
    "pd.set_option('display.max_colwidth', None)  # Prevent truncation of long strings\n",
    "\n",
    "# Check mapping of AgencyNumber to AgencyName\n",
    "agency_mapping = df_pcard.groupby('AgencyNumber')['AgencyName'].unique()\n",
    "multiple_agency_names = agency_mapping[agency_mapping.apply(len) > 1]\n",
    "multiple_agency_names_df = pd.DataFrame(multiple_agency_names).reset_index()\n",
    "multiple_agency_names_df\n"
   ]
  },
  {
   "cell_type": "code",
   "execution_count": 41,
   "metadata": {},
   "outputs": [],
   "source": [
    "# Creating mapping table for duplicate AgencyNames\n",
    "agency_mapping_table = {\n",
    "    4000: 'DEPARTMENT OF AGRICULTURE FOOD & FORESTRY',\n",
    "    19000: 'OKLAHOMA STATE BOARD OF COSMETOLOGY AND BARBERING',\n",
    "    21500: 'OLKAHOMA STATE BOARD OF DENTISTRY',\n",
    "    26500: 'DEPARTMENT OF EDUCATION',\n",
    "    30900: 'DEPARTMENT OF EMERGENCY MANAGEMENT',\n",
    "    34000: 'OKLAHOMA STATE DEPARTMENT OF HEALTH',\n",
    "    34200: 'OFFICE OF THE CHIEF MEDICAL EXAMINER',\n",
    "    50900: 'BOARD OF EXAM. FOR LT CARE ADMIN',\n",
    "    58800: 'OKLAHOMA REAL ESTATE COMMISSION',\n",
    "    60600: 'UNIVERSITY CENTER OF SOUTHERN OKLAHOMA'\n",
    "}\n",
    "\n",
    "# Replacing duplicate AgencyNames with correct AgencyName\n",
    "df_pcard['AgencyName'] = df_pcard['AgencyNumber'].map(agency_mapping_table).fillna(df_pcard['AgencyName']) # Map the known values, fill the rest with the original values\n",
    "\n"
   ]
  },
  {
   "cell_type": "code",
   "execution_count": 42,
   "metadata": {},
   "outputs": [
    {
     "data": {
      "text/html": [
       "<div>\n",
       "<style scoped>\n",
       "    .dataframe tbody tr th:only-of-type {\n",
       "        vertical-align: middle;\n",
       "    }\n",
       "\n",
       "    .dataframe tbody tr th {\n",
       "        vertical-align: top;\n",
       "    }\n",
       "\n",
       "    .dataframe thead th {\n",
       "        text-align: right;\n",
       "    }\n",
       "</style>\n",
       "<table border=\"1\" class=\"dataframe\">\n",
       "  <thead>\n",
       "    <tr style=\"text-align: right;\">\n",
       "      <th></th>\n",
       "      <th>AgencyNumber</th>\n",
       "      <th>AgencyName</th>\n",
       "    </tr>\n",
       "  </thead>\n",
       "  <tbody>\n",
       "  </tbody>\n",
       "</table>\n",
       "</div>"
      ],
      "text/plain": [
       "Empty DataFrame\n",
       "Columns: [AgencyNumber, AgencyName]\n",
       "Index: []"
      ]
     },
     "execution_count": 42,
     "metadata": {},
     "output_type": "execute_result"
    }
   ],
   "source": [
    "pd.set_option('display.max_colwidth', None)  # Prevent truncation of long strings\n",
    "\n",
    "# Check mapping of AgencyNumber to AgencyName\n",
    "agency_mapping = df_pcard.groupby('AgencyNumber')['AgencyName'].unique()\n",
    "multiple_agency_names = agency_mapping[agency_mapping.apply(len) > 1]\n",
    "multiple_agency_names_df = pd.DataFrame(multiple_agency_names).reset_index()\n",
    "multiple_agency_names_df\n"
   ]
  },
  {
   "cell_type": "markdown",
   "metadata": {},
   "source": [
    "### Standardizing naming convention of AgencyName"
   ]
  },
  {
   "cell_type": "code",
   "execution_count": null,
   "metadata": {},
   "outputs": [],
   "source": [
    "# Function to find and replace common patterns in AgencyName\n",
    "def standardize_agency_name(agency_name):\n",
    "    # Add spaces after punctuation, but avoid duplicates\n",
    "    agency_name = re.sub(r\"\\.(?!\\s)\", \". \", agency_name) # Add a space after a period if not already present\n",
    "    agency_name = re.sub(r\"\\s+\\.\", \".\", agency_name) # Remove spaces before periods\n",
    "    \n",
    "    # Remove extra spaces\n",
    "    agency_name = re.sub(r'\\s+', \" \", agency_name).strip()\n",
    "    \n",
    "    # Dictionary of patterns to replace\n",
    "    replacements = {\n",
    "        r\"\\b(OK\\.?|OKLA\\.?|OKLAHOMA\\.)\\b\": 'OKLAHOMA', # Replace variations of OKLAHOMA with OKLAHOMA\n",
    "        r\"\\b(DEPT\\.?|DEPARTMENT\\.)\\b\": 'DEPARTMENT', # Replace variations of DEPARTMENT with DEPARTMENT\n",
    "        r\"\\b(BD\\.?|BOARD\\.)\\b\": 'BOARD', # Replace variations of BOARD with BOARD\n",
    "        r\"\\b(ST\\.?|STATE\\.)\\b\": 'STATE', # Replace variations of STATE with STATE\n",
    "        r\"\\b(UNIV\\.?|UNIVERSITY\\.)\\b\": 'UNIVERSITY', # Replace variations of UNIVERSITY with UNIVERSITY\n",
    "        r\"\\b(COMM\\.?|COMMISSION\\.)\\b\": 'COMMISSION' # Replace variations of COMMISSION with COMMISSION\n",
    "    }\n",
    "\n",
    "    # Loop to replace words identified in replacements dictionary\n",
    "    for pattern, replacement in replacements.items():\n",
    "        agency_name = re.sub(pattern, replacement, agency_name)\n",
    "\n",
    "    # Ensure standardized formatting for COMMISSION\n",
    "    if agency_name.startswith('COMMISSION OF '):\n",
    "        # Move COMMISSION to the end\n",
    "        agency_name = agency_name.replace('COMMISSION OF ', '') + ' COMMISSION'\n",
    "\n",
    "    # Remove extra spaces again after replacing patterns\n",
    "    agency_name = re.sub(r'\\s+', ' ', agency_name).strip()\n",
    "\n",
    "    # Remove trailing periods from adjusted words\n",
    "    agency_name = re.sub(r'(OKLAHOMA|DEPARTMENT|BOARD|STATE|UNIVERSITY|COMMISSION)\\.', r'\\1', agency_name)\n",
    "    \n",
    "    # Ensure capitalization\n",
    "    return agency_name.upper()\n",
    "\n",
    "# Apply the standardize_agency_name function to the AgencyName column\n",
    "df_pcard['AgencyName'] = df_pcard['AgencyName'].apply(standardize_agency_name)\n"
   ]
  },
  {
   "cell_type": "markdown",
   "metadata": {},
   "source": [
    "### Fix formatting for MCC, Description, and Vendor"
   ]
  },
  {
   "cell_type": "code",
   "execution_count": null,
   "metadata": {},
   "outputs": [],
   "source": [
    "# Add spaces after punctuation and stripping extra spaces\n",
    "\n",
    "# Function to fix spacing after punctuation\n",
    "def fix_punctuation_spacing(name):\n",
    "    # Add a single space after punctuation if not already present except periods\n",
    "    name = re.sub(r'([,:;!?])(?=\\S)', r'\\1 ', name) # Add a space after punctuation if not already present except periods\n",
    "    \n",
    "    # Remove extra spaces around punctuation\n",
    "    name = re.sub(r'\\s+([.,:;!?])', r'\\1', name) # Removes spaces before punctuation\n",
    "    name = re.sub(r'\\s+', ' ', name).strip() # Remove extra spaces\n",
    "\n",
    "    return name"
   ]
  },
  {
   "cell_type": "code",
   "execution_count": 55,
   "metadata": {},
   "outputs": [],
   "source": [
    "# Fixes punctuation spacing for Vendor column\n",
    "df_pcard['Vendor'] = df_pcard['Vendor'].apply(fix_punctuation_spacing)"
   ]
  },
  {
   "cell_type": "code",
   "execution_count": 56,
   "metadata": {},
   "outputs": [],
   "source": [
    "# Fixes punctuation spacing for MCC column\n",
    "df_pcard['MCC'] = df_pcard['MCC'].apply(fix_punctuation_spacing)"
   ]
  },
  {
   "cell_type": "code",
   "execution_count": 58,
   "metadata": {},
   "outputs": [],
   "source": [
    "# Fixes punctuation spacing for Description column\n",
    "df_pcard['Description'] = df_pcard['Description'].apply(fix_punctuation_spacing)"
   ]
  }
 ],
 "metadata": {
  "kernelspec": {
   "display_name": "base",
   "language": "python",
   "name": "python3"
  },
  "language_info": {
   "codemirror_mode": {
    "name": "ipython",
    "version": 3
   },
   "file_extension": ".py",
   "mimetype": "text/x-python",
   "name": "python",
   "nbconvert_exporter": "python",
   "pygments_lexer": "ipython3",
   "version": "3.12.2"
  }
 },
 "nbformat": 4,
 "nbformat_minor": 2
}
